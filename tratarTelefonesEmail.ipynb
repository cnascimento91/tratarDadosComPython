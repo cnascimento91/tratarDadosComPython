{
 "cells": [
  {
   "cell_type": "markdown",
   "metadata": {},
   "source": [
    "# Tratando telefones\n",
    "\n",
    "###### Esse código tem como objetivo, receber telefones de certa forma estruturado de diversas fontes diferentes para gerar apenas uma saida com todos os telefones (que contenham 11 digitos) distintos."
   ]
  },
  {
   "cell_type": "code",
   "execution_count": null,
   "metadata": {},
   "outputs": [],
   "source": [
    "#Importando a biblioteca panda para tratamento com os dados\n",
    "\n",
    "import pandas as pd \n",
    "\n",
    "#lendo os arquivos de telefone\n",
    "data = pd.read_csv(\"arquivo_telefone_input_1.csv\") \n",
    "data_2 = pd.read_csv(\"arquivo_telefone_input_1.csv\") "
   ]
  },
  {
   "cell_type": "code",
   "execution_count": null,
   "metadata": {},
   "outputs": [],
   "source": [
    "# Checando as primeiras 5 linhas do arquivo 1\n",
    "data.head()"
   ]
  },
  {
   "cell_type": "code",
   "execution_count": null,
   "metadata": {},
   "outputs": [],
   "source": [
    "# Checando as primeiras 5 linhas do arquivo 2\n",
    "data_2.head()"
   ]
  },
  {
   "cell_type": "code",
   "execution_count": null,
   "metadata": {},
   "outputs": [],
   "source": [
    "# armazenando a coluna de telefone numa lista\n",
    "\n",
    "telefone1 = []\n",
    "telefone2 = []\n",
    "telefone1 = data[\"TELEFONE\"]\n",
    "telefone2 = data_2[\"TELEFONE\"]"
   ]
  },
  {
   "cell_type": "code",
   "execution_count": null,
   "metadata": {},
   "outputs": [],
   "source": [
    "print (telefone1)"
   ]
  },
  {
   "cell_type": "code",
   "execution_count": null,
   "metadata": {},
   "outputs": [],
   "source": [
    "print (telefone2)"
   ]
  },
  {
   "cell_type": "code",
   "execution_count": null,
   "metadata": {},
   "outputs": [],
   "source": [
    "# separando os telefones que possuem mais de um no mesmo campo\n",
    "\n",
    "listaTelSeparado = []\n",
    "count = 0\n",
    "for item in telefone_2:    \n",
    "    if str(item).count('/') > count:\n",
    "        count = str(item).count('/')\n",
    "    listaTelSeparado.append(item.split('/'))\n",
    "    \n",
    "# conta a profundidade da lista aninhada \n",
    "\n",
    "print (count)"
   ]
  },
  {
   "cell_type": "code",
   "execution_count": null,
   "metadata": {},
   "outputs": [],
   "source": [
    "print(listaTelSeparado)"
   ]
  },
  {
   "cell_type": "code",
   "execution_count": null,
   "metadata": {},
   "outputs": [],
   "source": [
    "# criando uma lista para armazenar todos os telefones ja separados com a profundidade encontrada no codigo acima\n",
    "\n",
    "listaAux = []\n",
    "for item in listaTelSeparado:\n",
    "    for item2 in item:\n",
    "        for item3 in item2:\n",
    "            if len(item3) == 11 and str(item3).isnumeric:\n",
    "                listaAux.append(str(item3))\n",
    "        if len(item2) == 11 and str(item2).isnumeric:\n",
    "                listaAux.append(str(item2))\n",
    "    if len(item) == 11 and str(item).isnumeric:\n",
    "                listaAux.append(str(item))\n",
    "            \n",
    "print (len(listaAux))"
   ]
  },
  {
   "cell_type": "code",
   "execution_count": null,
   "metadata": {},
   "outputs": [],
   "source": [
    "# concatenando as duas listas de telefone numa unica lista\n",
    "tam = len(listaAux)\n",
    "\n",
    "for item in telefone_1: \n",
    "    if len(str(item)) == 11 and str(item).isnumeric:\n",
    "        listaAux.append(str(item))\n",
    "\n",
    "tam2 = len(listaAux)\n",
    "\n",
    "tam_dif  = tam2 - tam\n",
    "\n",
    "print(\"O tamanho da lista aumentou em %s\" %(tam_dif))\n",
    "    "
   ]
  },
  {
   "cell_type": "code",
   "execution_count": null,
   "metadata": {},
   "outputs": [],
   "source": [
    "print (tam2)"
   ]
  },
  {
   "cell_type": "code",
   "execution_count": null,
   "metadata": {},
   "outputs": [],
   "source": [
    "# removendo as reptições\n",
    "mylistTel_sem_repeticoes = list(sorted(set(listaAux)))"
   ]
  },
  {
   "cell_type": "code",
   "execution_count": null,
   "metadata": {},
   "outputs": [],
   "source": [
    "print(len(mylistTel_sem_repeticoes))"
   ]
  },
  {
   "cell_type": "code",
   "execution_count": null,
   "metadata": {},
   "outputs": [],
   "source": [
    "# gravando a lista unica sem repticoes no csv\n",
    "\n",
    "df = pd.DataFrame(mylistTel_sem_repeticoes)\n",
    "df.to_csv(\"./arquivo_output.csv\", sep=',',index=False)"
   ]
  },
  {
   "cell_type": "code",
   "execution_count": null,
   "metadata": {},
   "outputs": [],
   "source": [
    "    "
   ]
  }
 ],
 "metadata": {
  "kernelspec": {
   "display_name": "Python 3",
   "language": "python",
   "name": "python3"
  },
  "language_info": {
   "codemirror_mode": {
    "name": "ipython",
    "version": 3
   },
   "file_extension": ".py",
   "mimetype": "text/x-python",
   "name": "python",
   "nbconvert_exporter": "python",
   "pygments_lexer": "ipython3",
   "version": "3.7.6"
  }
 },
 "nbformat": 4,
 "nbformat_minor": 4
}
