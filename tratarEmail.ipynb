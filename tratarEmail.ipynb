{
 "cells": [
  {
   "cell_type": "markdown",
   "metadata": {},
   "source": [
    "# Tratando emails\n",
    "\n",
    "###### Esse código tem como objetivo, receber emails e gerar uma lista distinta unica dos emails"
   ]
  },
  {
   "cell_type": "code",
   "execution_count": null,
   "metadata": {},
   "outputs": [],
   "source": [
    "# lendo os arquivo de email\n",
    "dataEmail = pd.read_csv(\"arquivo_email_input\")\n",
    "\n",
    "# Checando as 5 primeiras linhas do arquivo\n",
    "dataEmail.head()"
   ]
  },
  {
   "cell_type": "code",
   "execution_count": null,
   "metadata": {},
   "outputs": [],
   "source": [
    "# armazenando a coluna de email numa lista\n",
    "myListEmail = dataEmail['EMAIL']\n",
    "# deixando todos os emails em caixa alta\n",
    "myListEmail = list(map(lambda x:x.upper(),myListEmail))\n",
    "len(myListEmail)"
   ]
  },
  {
   "cell_type": "code",
   "execution_count": null,
   "metadata": {},
   "outputs": [],
   "source": [
    "# excluindo os itens repetidos\n",
    "\n",
    "mylistEmail_sem_repeticoes = list(sorted(set(myListEmail)))\n",
    "len(mylistEmail_sem_repeticoes)"
   ]
  },
  {
   "cell_type": "code",
   "execution_count": null,
   "metadata": {},
   "outputs": [],
   "source": [
    "#gravando em um arquivo de saida o resultado\n",
    "\n",
    "df = pd.DataFrame(mylistEmail_sem_repeticoes)\n",
    "df.to_csv(\"./arquivo_output\", sep=',',index=False)"
   ]
  },
  {
   "cell_type": "code",
   "execution_count": null,
   "metadata": {},
   "outputs": [],
   "source": []
  }
 ],
 "metadata": {
  "kernelspec": {
   "display_name": "Python 3",
   "language": "python",
   "name": "python3"
  },
  "language_info": {
   "codemirror_mode": {
    "name": "ipython",
    "version": 3
   },
   "file_extension": ".py",
   "mimetype": "text/x-python",
   "name": "python",
   "nbconvert_exporter": "python",
   "pygments_lexer": "ipython3",
   "version": "3.7.6"
  }
 },
 "nbformat": 4,
 "nbformat_minor": 4
}
